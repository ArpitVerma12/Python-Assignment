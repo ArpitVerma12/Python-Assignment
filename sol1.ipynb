{
  "cells": [
    {
      "cell_type": "markdown",
      "metadata": {
        "id": "DVSnHbFu6jZk"
      },
      "source": [
        "# New Section"
      ]
    },
    {
      "cell_type": "code",
      "execution_count": 4,
      "metadata": {
        "colab": {
          "base_uri": "https://localhost:8080/"
        },
        "id": "1nMqA3yx6tjA",
        "outputId": "a42d6594-0e51-4fcf-cb4a-ff2a53374932"
      },
      "outputs": [
        {
          "name": "stdout",
          "output_type": "stream",
          "text": [
            "                                          Product URL  \\\n",
            "0   https://www.amazon.in/Chic-Buddy-Waterproof-Sw...   \n",
            "1   https://www.amazon.in/Mokobara-Transit-Backpac...   \n",
            "2   https://www.amazon.in/Attractive-lasting-Draws...   \n",
            "3   https://www.amazon.in/Martucci-Backpack-Colleg...   \n",
            "4   https://www.amazon.in/HYDER-Gamepad-Waterproof...   \n",
            "5   https://www.amazon.in/Bennett-15-6-inch-Colleg...   \n",
            "6   https://www.amazon.in/F-Gear-Miles-Guc-Black-W...   \n",
            "7   https://www.amazon.in/Backpack-Business-Backpa...   \n",
            "8   https://www.amazon.in/Crossbody-Adjustable-Dur...   \n",
            "9   https://www.amazon.in/uppercase-Backpack-1800E...   \n",
            "10  https://www.amazon.in/Half-Moon-Laptop-Backpac...   \n",
            "11  https://www.amazon.in/POLESTAR-backpack-Backpa...   \n",
            "12  https://www.amazon.in/Bennett-15-6-inch-Colleg...   \n",
            "13  https://www.amazon.in/MosQuick%C2%AE-Drawstrin...   \n",
            "14  https://www.amazon.in/GEAR-Black-Toiletry-Bag-...   \n",
            "15  https://www.amazon.in/SATELLITE-Black-Casual-B...   \n",
            "16  https://www.amazon.in/AirCase-C25-Messenger-Sh...   \n",
            "17  https://www.amazon.in/SHAMRIZ-Sling-Adjustable...   \n",
            "\n",
            "                                         Product Name Product Price Rating  \\\n",
            "0                           Chic Buddy Waterproof Wet           299    4.4   \n",
            "1   MOKOBARA The Transit Backpack - 30L Premium Ny...          4999    4.5   \n",
            "2   18 L Attractive long lasting Printed Drawstrin...           199    4.0   \n",
            "3   Martucci Large 35 L Backpack Spacy Unisex/Coll...           758    4.0   \n",
            "4   HYDER 35L Latest And Trendy Stylish Waterproof...           735    4.2   \n",
            "5                               Bennett Casual Laptop           512    3.9   \n",
            "6                 F Gear Miles Guc Black Sports Waist           449    4.4   \n",
            "7   FUR JADEN Travel Laptop Backpack, Business Bac...          1049    4.2   \n",
            "8                                 Amazon Basics Sling           349    4.7   \n",
            "9   uppercase Laptop Backpack Printed Compact 3x m...          1350    4.1   \n",
            "10     Half Moon 30L Water Resistant 15.6 inch Laptop           599    3.6   \n",
            "11                               POLESTAR Leader 34 L           599    4.1   \n",
            "12                              Bennett Casual Laptop           512    3.9   \n",
            "13                   MosQuick® Clear large Drawstring           310    4.0   \n",
            "14           Gear Solid 22 Cms Cosmetic Pouch (Black)           439    4.5   \n",
            "15         satellite backpacks for men women backpack           516    3.8   \n",
            "16                     AirCase Office Messenger Sling           949    3.9   \n",
            "17                                SHAMRIZ Women Sling           341    3.8   \n",
            "\n",
            "   Number of Reviews  \n",
            "0                384  \n",
            "1                588  \n",
            "2                 11  \n",
            "3               1220  \n",
            "4                133  \n",
            "5                329  \n",
            "6                432  \n",
            "7                258  \n",
            "8                986  \n",
            "9                100  \n",
            "10                75  \n",
            "11              3514  \n",
            "12               170  \n",
            "13                69  \n",
            "14              4258  \n",
            "15               366  \n",
            "16              1336  \n",
            "17              3192  \n"
          ]
        }
      ],
      "source": [
        "import requests\n",
        "from bs4 import BeautifulSoup\n",
        "import re\n",
        "import pandas as pd\n",
        "\n",
        "def scrape_amazon_products(url, num_pages=20):\n",
        "    headers = {\n",
        "        \"User-Agent\": \"Mozilla/5.0 (Windows NT 10.0; Win64; x64) AppleWebKit/537.36 (KHTML, like Gecko) Chrome/58.0.3029.110 Safari/537.3\"}\n",
        "    all_products = []\n",
        "\n",
        "    for page in range(1, num_pages + 1):\n",
        "        page_url = url + \"&page=\" + str(page)\n",
        "        response = requests.get(page_url, headers=headers)\n",
        "\n",
        "        if response.status_code == 200:\n",
        "            soup = BeautifulSoup(response.content, 'html.parser')\n",
        "            products = soup.find_all(\"div\", {\"data-component-type\": \"s-search-result\"})\n",
        "\n",
        "            for product in products:\n",
        "                product_url = \"https://www.amazon.in\" + product.find(\"a\", {\"class\": \"a-link-normal\"})[\"href\"]\n",
        "                product_name = product.find(\"span\", {\"class\": \"a-text-normal\"}).text.strip()\n",
        "\n",
        "                product_price = product.find(\"span\", {\"class\": \"a-offscreen\"}).text.strip()\n",
        "                product_price = re.sub(r\"[^\\d.]\", \"\", product_price)\n",
        "\n",
        "                rating = product.find(\"span\", {\"class\": \"a-icon-alt\"})\n",
        "                if rating:\n",
        "                    rating = re.search(r'\\d\\.\\d', rating.text).group()\n",
        "                else:\n",
        "                    rating = \"N/A\"\n",
        "\n",
        "                num_reviews = product.find(\"span\", {\"class\": \"a-size-base\"}).text.strip()\n",
        "                num_reviews = re.sub(r\"[^\\d]\", \"\", num_reviews)\n",
        "\n",
        "                product_data = {\n",
        "                    \"Product URL\": product_url,\n",
        "                    \"Product Name\": product_name,\n",
        "                    \"Product Price\": product_price,\n",
        "                    \"Rating\": rating,\n",
        "                    \"Number of Reviews\": num_reviews\n",
        "                }\n",
        "\n",
        "                all_products.append(product_data)\n",
        "\n",
        "    return all_products\n",
        "\n",
        "if __name__ == \"__main__\":\n",
        "    base_url = \"https://www.amazon.in/s?k=bags&crid=2M096C61O4MLT&qid=1653308124&sprefix=ba%2Caps%2C283&ref=sr_pg_\"\n",
        "    num_pages_to_scrape = 20\n",
        "\n",
        "    scraped_products = scrape_amazon_products(base_url, num_pages_to_scrape)\n",
        "    df = pd.DataFrame(scraped_products)\n",
        "\n",
        "    print(df)\n"
      ]
    }
  ],
  "metadata": {
    "colab": {
      "provenance": []
    },
    "kernelspec": {
      "display_name": "Python 3",
      "name": "python3"
    },
    "language_info": {
      "codemirror_mode": {
        "name": "ipython",
        "version": 3
      },
      "file_extension": ".py",
      "mimetype": "text/x-python",
      "name": "python",
      "nbconvert_exporter": "python",
      "pygments_lexer": "ipython3",
      "version": "3.11.4"
    }
  },
  "nbformat": 4,
  "nbformat_minor": 0
}
