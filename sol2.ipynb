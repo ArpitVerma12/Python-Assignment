{
  "cells": [
    {
      "cell_type": "markdown",
      "metadata": {
        "id": "DVSnHbFu6jZk"
      },
      "source": [
        "# New Section"
      ]
    },
    {
      "cell_type": "code",
      "execution_count": 3,
      "metadata": {
        "colab": {
          "base_uri": "https://localhost:8080/"
        },
        "id": "1nMqA3yx6tjA",
        "outputId": "468683eb-3d53-4bcd-ada3-6da884a249f3"
      },
      "outputs": [
        {
          "name": "stderr",
          "output_type": "stream",
          "text": [
            "C:\\Users\\Arpit verma\\AppData\\Local\\Temp\\ipykernel_2252\\573592499.py:17: DeprecationWarning: The 'text' argument to find()-type methods is deprecated. Use 'string' instead.\n",
            "  asin_element = soup.find(\"th\", text=\"ASIN\")\n"
          ]
        },
        {
          "name": "stdout",
          "output_type": "stream",
          "text": [
            "Data exported to 'amazon_products.csv' file.\n"
          ]
        }
      ],
      "source": [
        "import requests\n",
        "from bs4 import BeautifulSoup\n",
        "import re\n",
        "import pandas as pd\n",
        "\n",
        "def scrape_product_page(product_url):\n",
        "    headers = {\n",
        "        \"User-Agent\": \"Mozilla/5.0 (Windows NT 10.0; Win64; x64) AppleWebKit/537.36 (KHTML, like Gecko) Chrome/58.0.3029.110 Safari/537.3\"}\n",
        "    response = requests.get(product_url, headers=headers)\n",
        "\n",
        "    if response.status_code == 200:\n",
        "        soup = BeautifulSoup(response.content, 'html.parser')\n",
        "\n",
        "        description_element = soup.find(\"span\", {\"id\": \"productTitle\"})\n",
        "        description = description_element.text.strip() if description_element else \"N/A\"\n",
        "\n",
        "        asin_element = soup.find(\"th\", text=\"ASIN\")\n",
        "        asin = asin_element.find_next(\"td\").text.strip() if asin_element else \"N/A\"\n",
        "\n",
        "        product_description_element = soup.find(\"div\", {\"id\": \"productDescription\"})\n",
        "        product_description = product_description_element.text.strip() if product_description_element else \"N/A\"\n",
        "\n",
        "        manufacturer_element = soup.find(\"a\", {\"id\": \"bylineInfo\"})\n",
        "        manufacturer = manufacturer_element.text.strip() if manufacturer_element else \"N/A\"\n",
        "\n",
        "        return {\n",
        "            \"Description\": description,\n",
        "            \"ASIN\": asin,\n",
        "            \"Product Description\": product_description,\n",
        "            \"Manufacturer\": manufacturer\n",
        "        }\n",
        "\n",
        "    return None\n",
        "\n",
        "def scrape_amazon_products(url, num_pages=30, max_products=200):\n",
        "    headers = {\n",
        "        \"User-Agent\": \"Mozilla/5.0 (Windows NT 10.0; Win64; x64) AppleWebKit/537.36 (KHTML, like Gecko) Chrome/58.0.3029.110 Safari/537.3\"}\n",
        "    all_products = []\n",
        "\n",
        "    for page in range(1, num_pages + 1):\n",
        "        page_url = url + \"&page=\" + str(page)\n",
        "        response = requests.get(page_url, headers=headers)\n",
        "\n",
        "        if response.status_code == 200:\n",
        "            soup = BeautifulSoup(response.content, 'html.parser')\n",
        "            products = soup.find_all(\"div\", {\"data-component-type\": \"s-search-result\"})\n",
        "\n",
        "            for product in products:\n",
        "                product_url = \"https://www.amazon.in\" + product.find(\"a\", {\"class\": \"a-link-normal\"})[\"href\"]\n",
        "                product_name = product.find(\"span\", {\"class\": \"a-text-normal\"}).text.strip()\n",
        "                product_price = product.find(\"span\", {\"class\": \"a-offscreen\"}).text.strip()\n",
        "                product_price = re.sub(r\"[^\\d.]\", \"\", product_price)\n",
        "\n",
        "                rating = product.find(\"span\", {\"class\": \"a-icon-alt\"})\n",
        "                if rating:\n",
        "                    rating = re.search(r'(\\d+\\.\\d+)', rating.text).group(1)\n",
        "                else:\n",
        "                    rating = \"N/A\"\n",
        "\n",
        "                num_reviews = product.find(\"span\", {\"class\": \"a-size-base\"}).text.strip()\n",
        "                num_reviews = re.sub(r\"[^\\d]\", \"\", num_reviews)\n",
        "\n",
        "                product_data = {\n",
        "                    \"Product URL\": product_url,\n",
        "                    \"Product Name\": product_name,\n",
        "                    \"Product Price\": product_price,\n",
        "                    \"Rating\": rating,\n",
        "                    \"Number of Reviews\": num_reviews\n",
        "                }\n",
        "\n",
        "                additional_info = scrape_product_page(product_url)\n",
        "                if additional_info:\n",
        "                    product_data.update(additional_info)\n",
        "\n",
        "                all_products.append(product_data)\n",
        "\n",
        "                if len(all_products) >= max_products:\n",
        "                    break\n",
        "\n",
        "            if len(all_products) >= max_products:\n",
        "                break\n",
        "\n",
        "    return all_products\n",
        "\n",
        "if __name__ == \"__main__\":\n",
        "    base_url = \"https://www.amazon.in/s?k=bags&crid=2M096C61O4MLT&qid=1653308124&sprefix=ba%2Caps%2C283&ref=sr_pg_\"\n",
        "    num_pages_to_scrape = 30\n",
        "    max_products_to_scrape = 200\n",
        "\n",
        "    scraped_products = scrape_amazon_products(base_url, num_pages_to_scrape, max_products_to_scrape)\n",
        "\n",
        "    df = pd.DataFrame(scraped_products)\n",
        "    output_file = \"amazon_products.csv\"\n",
        "    df.to_csv(output_file, index=False)\n",
        "\n",
        "    print(f\"Data exported to '{output_file}' file.\")\n"
      ]
    }
  ],
  "metadata": {
    "colab": {
      "provenance": []
    },
    "kernelspec": {
      "display_name": "Python 3",
      "name": "python3"
    },
    "language_info": {
      "codemirror_mode": {
        "name": "ipython",
        "version": 3
      },
      "file_extension": ".py",
      "mimetype": "text/x-python",
      "name": "python",
      "nbconvert_exporter": "python",
      "pygments_lexer": "ipython3",
      "version": "3.11.4"
    }
  },
  "nbformat": 4,
  "nbformat_minor": 0
}
